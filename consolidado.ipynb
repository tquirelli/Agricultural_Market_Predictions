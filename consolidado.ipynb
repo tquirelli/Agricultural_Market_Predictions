{
 "cells": [
  {
   "cell_type": "code",
   "execution_count": 1,
   "id": "fb4d5cf4-128c-4c3e-8476-da8a6bf1c32d",
   "metadata": {},
   "outputs": [],
   "source": [
    "import pandas as pd\n",
    "import seaborn as sns\n",
    "import matplotlib.pyplot as plt\n",
    "import numpy as np\n",
    "from sklearn.preprocessing import MinMaxScaler\n",
    "import statsmodels.api as sm\n",
    "from sklearn.linear_model import Lasso\n",
    "from sklearn.model_selection import train_test_split\n",
    "from sklearn.linear_model import Lasso\n",
    "from sklearn.metrics import mean_absolute_error\n",
    "from sklearn.ensemble import RandomForestRegressor\n",
    "from sklearn.model_selection import train_test_split\n",
    "from sklearn.metrics import mean_absolute_error\n",
    "\n"
   ]
  },
  {
   "cell_type": "code",
   "execution_count": 2,
   "id": "fffdfe53-dcfd-4882-91fd-e145ff7d0f66",
   "metadata": {},
   "outputs": [],
   "source": [
    "\n",
    "\n",
    "# Specify the file path\n",
    "file_path = 'raw_data/consolidado.csv'\n",
    "\n",
    "# Read the CSV file into a DataFrame+\n",
    "df = pd.read_csv(file_path)\n",
    "\n",
    "df['price_soybean'] = df['price_soybean'].str.replace(',', '.')\n",
    "# Convert 'date' column to datetime\n",
    "df['date'] = pd.to_datetime(df['date'])\n",
    "# Filter out data from the year 2023\n",
    "df= df[df['date'].dt.year != 2023]\n",
    "\n",
    "df['price_soybean'] = df['price_soybean'].str.replace(',', '.')\n",
    "df['price_soybean'] = pd.to_numeric(df['price_soybean'], errors='coerce')\n",
    "\n",
    "\n",
    "selected_columns = ['date','price_soybean','real_interest_rate',\n",
    "                    'SP500',\n",
    "                    'SOYBEANS - USA PRODUCTION [mTons]']\n",
    "df=df[selected_columns]\n",
    "\n",
    "\n",
    "\n"
   ]
  },
  {
   "cell_type": "code",
   "execution_count": 3,
   "id": "0f029412-6c6a-4baa-a32a-a25f4d76ad82",
   "metadata": {},
   "outputs": [
    {
     "name": "stderr",
     "output_type": "stream",
     "text": [
      "/tmp/ipykernel_685/3637742592.py:42: FutureWarning: Dropping of nuisance columns in rolling operations is deprecated; in a future version this will raise TypeError. Select only valid columns before calling the operation. Dropped columns were Index(['date'], dtype='object')\n",
      "  rolling_median = df.rolling(window=12, min_periods=1).median()\n"
     ]
    }
   ],
   "source": [
    "\n",
    "#features seleccionadas\n",
    "df = df[['date','price_soybean', 'real_interest_rate', 'SP500', 'SOYBEANS - USA PRODUCTION [mTons]']]\n",
    "\n",
    "selected_columns=['real_interest_rate', 'SP500', 'SOYBEANS - USA PRODUCTION [mTons]']\n",
    "\n",
    "\n",
    "#Limpieza general de datos\n",
    "\n",
    "# Convert 'date' column to datetime\n",
    "df['date'] = pd.to_datetime(df['date'])\n",
    "# Sacamos el año 2023\n",
    "df= df[df['date'].dt.year != 2023]\n",
    "\n",
    "# Convertimos el precio de la soja a numerico\n",
    "df['price_soybean'] = pd.to_numeric(df['price_soybean'], errors='coerce')\n",
    "\n",
    "\n",
    "\n",
    "#Creamos las nuevas columnas t-1,t-3,t-6; agregamos medias moviles del precio de la soja 3m,6m,12m\n",
    "df['previous_price_soybean'] = df['price_soybean'].shift(1)\n",
    "df['previous_usa_production'] = df['SOYBEANS - USA PRODUCTION [mTons]'].shift(6)\n",
    "df['previous_SP500'] = df['SP500'].shift(1)\n",
    "df['previous_real_interest_rate'] = df['real_interest_rate'].shift(1)\n",
    "df['price_soybean_avg_3_months'] = df['price_soybean'].rolling(window=3).mean()\n",
    "df['price_soybean_avg_6_months'] = df['price_soybean'].rolling(window=6).mean()\n",
    "df['price_soybean_avg_12_months'] = df['price_soybean'].rolling(window=12).mean()\n",
    "df['3mprevious_price_soybean'] = df['price_soybean'].shift(3)\n",
    "df['3mprevious_SP500'] = df['SP500'].shift(3)\n",
    "df['3mprevious_real_interest_rate'] = df['real_interest_rate'].shift(6)\n",
    "df['6mprevious_price_soybean'] = df['price_soybean'].shift(6)\n",
    "df['6mprevious_SP500'] = df['SP500'].shift(6)\n",
    "df['6mprevious_real_interest_rate'] = df['real_interest_rate'].shift(6)\n",
    "df['month'] = df['date'].dt.month\n",
    "df['year'] = df['date'].dt.year\n",
    "df['month_sin'] = np.sin(2 * np.pi * df['month'] / 12)\n",
    "df['month_cos'] = np.cos(2 * np.pi * df['month'] / 12)\n",
    "df['year_sin'] = np.sin(2 * np.pi * df['year'] / df['year'].max())\n",
    "df['year_cos'] = np.cos(2 * np.pi * df['year'] / df['year'].max())\n",
    "\n",
    "\n",
    "#si hay nulls mediana de los ultimos 12 meses\n",
    "rolling_median = df.rolling(window=12, min_periods=1).median()\n",
    "df_filled = df.fillna(rolling_median)\n",
    "df = df_filled\n",
    "df2 = df.fillna(method='bfill')\n",
    "df=df2\n",
    "\n",
    "#Scaler\n",
    "scaler = MinMaxScaler()\n",
    "df[selected_columns] = scaler.fit_transform(df[selected_columns])\n",
    "\n",
    "\n",
    "#nos aseguramos que los nulls esten cubiertos\n",
    "null_rows = df.isnull().sum(axis=1)\n",
    "num_null_rows = null_rows.sum()\n",
    "\n"
   ]
  },
  {
   "cell_type": "code",
   "execution_count": 4,
   "id": "5d218f68-4237-4c5c-ac9a-f9bcede22cf9",
   "metadata": {},
   "outputs": [
    {
     "name": "stdout",
     "output_type": "stream",
     "text": [
      "Number of rows with null values: 0\n"
     ]
    }
   ],
   "source": [
    "df = df.rename(columns={'SOYBEANS - USA PRODUCTION [mTons]': 'usa_prod'})\n",
    "\n",
    "print(f\"Number of rows with null values: {num_null_rows}\")\n"
   ]
  },
  {
   "cell_type": "code",
   "execution_count": 5,
   "id": "abbe17ad-590e-4dc2-8c30-b4ab70a77482",
   "metadata": {},
   "outputs": [
    {
     "name": "stdout",
     "output_type": "stream",
     "text": [
      "Index(['date', 'price_soybean', 'real_interest_rate', 'SP500', 'usa_prod',\n",
      "       'previous_price_soybean', 'previous_usa_production', 'previous_SP500',\n",
      "       'previous_real_interest_rate', 'price_soybean_avg_3_months',\n",
      "       'price_soybean_avg_6_months', 'price_soybean_avg_12_months',\n",
      "       '3mprevious_price_soybean', '3mprevious_SP500',\n",
      "       '3mprevious_real_interest_rate', '6mprevious_price_soybean',\n",
      "       '6mprevious_SP500', '6mprevious_real_interest_rate', 'month', 'year',\n",
      "       'month_sin', 'month_cos', 'year_sin', 'year_cos'],\n",
      "      dtype='object')\n"
     ]
    }
   ],
   "source": [
    "print(df.columns)\n"
   ]
  },
  {
   "cell_type": "markdown",
   "id": "926e15e5-b258-4f47-9b64-1bfbd2d16697",
   "metadata": {},
   "source": [
    "## Pasamos todo a INT, salvo date"
   ]
  },
  {
   "cell_type": "code",
   "execution_count": 6,
   "id": "83ca327a-4ca2-4d8d-8864-2d40ea28b71c",
   "metadata": {},
   "outputs": [
    {
     "name": "stdout",
     "output_type": "stream",
     "text": [
      "Non-Numeric Columns:\n",
      "date\n"
     ]
    }
   ],
   "source": [
    "# Select non-numeric columns\n",
    "non_numeric_columns = df.select_dtypes(exclude=['float64', 'int64']).columns\n",
    "\n",
    "# Print the non-numeric columns\n",
    "print(\"Non-Numeric Columns:\")\n",
    "for column in non_numeric_columns:\n",
    "    print(column)\n"
   ]
  },
  {
   "cell_type": "code",
   "execution_count": 27,
   "id": "2c8fcdda-9ea3-4acd-8ad8-ba93c170d473",
   "metadata": {},
   "outputs": [
    {
     "name": "stdout",
     "output_type": "stream",
     "text": [
      "                            OLS Regression Results                            \n",
      "==============================================================================\n",
      "Dep. Variable:          price_soybean   R-squared:                       0.985\n",
      "Model:                            OLS   Adj. R-squared:                  0.984\n",
      "Method:                 Least Squares   F-statistic:                     1236.\n",
      "Date:                Tue, 04 Jul 2023   Prob (F-statistic):               0.00\n",
      "Time:                        21:52:37   Log-Likelihood:                -2102.8\n",
      "No. Observations:                 414   AIC:                             4250.\n",
      "Df Residuals:                     392   BIC:                             4338.\n",
      "Df Model:                          21                                         \n",
      "Covariance Type:            nonrobust                                         \n",
      "=====================================================================================================\n",
      "                                        coef    std err          t      P>|t|      [0.025      0.975]\n",
      "-----------------------------------------------------------------------------------------------------\n",
      "const                             -3.944e+06      4e+06     -0.986      0.325   -1.18e+07    3.92e+06\n",
      "real_interest_rate                    5.4801     56.152      0.098      0.922    -104.916     115.877\n",
      "SP500                                66.3577     79.254      0.837      0.403     -89.458     222.173\n",
      "SOYBEANS - USA PRODUCTION [mTons]   -23.3414     28.114     -0.830      0.407     -78.614      31.931\n",
      "previous_price_soybean               -0.6270      0.062    -10.157      0.000      -0.748      -0.506\n",
      "previous_usa_production             -35.3708     31.733     -1.115      0.266     -97.760      27.018\n",
      "previous_SP500                      -13.2417     91.439     -0.145      0.885    -193.015     166.531\n",
      "previous_real_interest_rate         -24.9095     58.752     -0.424      0.672    -140.418      90.599\n",
      "price_soybean_avg_3_months            1.8547      0.094     19.708      0.000       1.670       2.040\n",
      "price_soybean_avg_6_months            0.0975      0.126      0.776      0.438      -0.150       0.345\n",
      "price_soybean_avg_12_months           0.0563      0.054      1.045      0.297      -0.050       0.162\n",
      "3mprevious_price_soybean             -0.3661      0.050     -7.321      0.000      -0.464      -0.268\n",
      "3mprevious_SP500                     -0.0007     70.858  -1.01e-05      1.000    -139.310     139.309\n",
      "3mprevious_real_interest_rate        22.5107     16.415      1.371      0.171      -9.762      54.783\n",
      "6mprevious_price_soybean             -0.0351      0.035     -0.992      0.322      -0.105       0.035\n",
      "6mprevious_SP500                    -81.8242     52.393     -1.562      0.119    -184.830      21.182\n",
      "6mprevious_real_interest_rate        22.5107     16.415      1.371      0.171      -9.762      54.783\n",
      "month                                 0.3873      0.953      0.406      0.685      -1.486       2.261\n",
      "year                               1969.8511   1994.892      0.987      0.324   -1952.174    5891.877\n",
      "month_sin                             3.2663      4.676      0.698      0.485      -5.928      12.460\n",
      "month_cos                             7.0360      3.116      2.258      0.025       0.909      13.163\n",
      "year_sin                          -6.319e+05   6.41e+05     -0.986      0.325   -1.89e+06    6.28e+05\n",
      "year_cos                          -3.897e+04   3.58e+04     -1.089      0.277   -1.09e+05    3.14e+04\n",
      "==============================================================================\n",
      "Omnibus:                       32.696   Durbin-Watson:                   1.985\n",
      "Prob(Omnibus):                  0.000   Jarque-Bera (JB):              139.831\n",
      "Skew:                          -0.030   Prob(JB):                     4.33e-31\n",
      "Kurtosis:                       5.847   Cond. No.                     1.18e+21\n",
      "==============================================================================\n",
      "\n",
      "Notes:\n",
      "[1] Standard Errors assume that the covariance matrix of the errors is correctly specified.\n",
      "[2] The smallest eigenvalue is 2.56e-33. This might indicate that there are\n",
      "strong multicollinearity problems or that the design matrix is singular.\n",
      "Significant Features:\n",
      "previous_price_soybean: p-value = 0.0000\n",
      "price_soybean_avg_3_months: p-value = 0.0000\n",
      "3mprevious_price_soybean: p-value = 0.0000\n",
      "month_cos: p-value = 0.0245\n"
     ]
    }
   ],
   "source": [
    "#OLS\n",
    "\n",
    "import statsmodels.api as sm\n",
    "\n",
    "# Separate the target variable and the predictors\n",
    "y = df['price_soybean']\n",
    "X = df.drop(['price_soybean', 'date'], axis=1)  # Pass the columns to drop as a list\n",
    "\n",
    "# Add a constant column to the predictors for the intercept term\n",
    "X = sm.add_constant(X)\n",
    "\n",
    "# Fit the linear regression model\n",
    "model = sm.OLS(y, X)\n",
    "results = model.fit()\n",
    "\n",
    "# Print the regression summary\n",
    "print(results.summary())\n",
    "\n",
    "# Extract the p-values\n",
    "p_values = results.pvalues\n",
    "\n",
    "# Filter the features based on the significance level (e.g., p-value < 0.05)\n",
    "significant_features = p_values[p_values < 0.05]\n",
    "\n",
    "# Print the significant features\n",
    "print(\"Significant Features:\")\n",
    "for feature, p_value in significant_features.iteritems():\n",
    "    print(f\"{feature}: p-value = {p_value:.4f}\")\n"
   ]
  },
  {
   "cell_type": "code",
   "execution_count": 30,
   "id": "f3df370b-7745-4ac7-83cf-01fad707662d",
   "metadata": {},
   "outputs": [
    {
     "name": "stdout",
     "output_type": "stream",
     "text": [
      "RUNNING THE L-BFGS-B CODE\n",
      "\n",
      "           * * *\n",
      "\n",
      "Machine precision = 2.220D-16\n",
      " N =           27     M =           10\n",
      "\n",
      "At X0         0 variables are exactly at the bounds\n",
      "\n",
      "At iterate    0    f=  5.07775D+00    |proj g|=  1.76501D-02\n"
     ]
    },
    {
     "name": "stderr",
     "output_type": "stream",
     "text": [
      " This problem is unconstrained.\n"
     ]
    },
    {
     "name": "stdout",
     "output_type": "stream",
     "text": [
      "\n",
      "At iterate    5    f=  5.07770D+00    |proj g|=  1.16433D-01\n",
      "\n",
      "At iterate   10    f=  5.07678D+00    |proj g|=  1.00364D-01\n",
      "\n",
      "At iterate   15    f=  5.07592D+00    |proj g|=  8.06999D-02\n",
      "\n",
      "At iterate   20    f=  5.04803D+00    |proj g|=  1.89248D+00\n",
      "\n",
      "At iterate   25    f=  5.03330D+00    |proj g|=  2.85859D+00\n",
      "\n",
      "At iterate   30    f=  4.99933D+00    |proj g|=  2.34961D-01\n",
      "\n",
      "At iterate   35    f=  4.99150D+00    |proj g|=  2.30252D-01\n",
      "\n",
      "At iterate   40    f=  4.96046D+00    |proj g|=  1.64325D+00\n",
      "\n",
      "At iterate   45    f=  4.94953D+00    |proj g|=  2.35840D-01\n"
     ]
    },
    {
     "name": "stderr",
     "output_type": "stream",
     "text": [
      "/home/pipeposse/.pyenv/versions/3.10.6/envs/lewagon/lib/python3.10/site-packages/statsmodels/base/model.py:604: ConvergenceWarning: Maximum Likelihood optimization failed to converge. Check mle_retvals\n",
      "  warnings.warn(\"Maximum Likelihood optimization failed to \"\n"
     ]
    },
    {
     "name": "stdout",
     "output_type": "stream",
     "text": [
      "\n",
      "At iterate   50    f=  4.93770D+00    |proj g|=  3.13724D-01\n",
      "\n",
      "           * * *\n",
      "\n",
      "Tit   = total number of iterations\n",
      "Tnf   = total number of function evaluations\n",
      "Tnint = total number of segments explored during Cauchy searches\n",
      "Skip  = number of BFGS updates skipped\n",
      "Nact  = number of active bounds at final generalized Cauchy point\n",
      "Projg = norm of the final projected gradient\n",
      "F     = final function value\n",
      "\n",
      "           * * *\n",
      "\n",
      "   N    Tit     Tnf  Tnint  Skip  Nact     Projg        F\n",
      "   27     50     63      1     0     0   3.137D-01   4.938D+00\n",
      "  F =   4.9377017918197694     \n",
      "\n",
      "STOP: TOTAL NO. of ITERATIONS REACHED LIMIT                 \n",
      "                                     SARIMAX Results                                      \n",
      "==========================================================================================\n",
      "Dep. Variable:                      price_soybean   No. Observations:                  414\n",
      "Model:             SARIMAX(1, 0, 1)x(1, 0, 1, 12)   Log Likelihood               -2044.209\n",
      "Date:                            Tue, 04 Jul 2023   AIC                           4142.417\n",
      "Time:                                    21:55:18   BIC                           4251.115\n",
      "Sample:                                         0   HQIC                          4185.404\n",
      "                                            - 414                                         \n",
      "Covariance Type:                              opg                                         \n",
      "=====================================================================================================\n",
      "                                        coef    std err          z      P>|z|      [0.025      0.975]\n",
      "-----------------------------------------------------------------------------------------------------\n",
      "real_interest_rate                    5.8744     61.626      0.095      0.924    -114.910     126.659\n",
      "SP500                                71.3939     64.279      1.111      0.267     -54.590     197.378\n",
      "SOYBEANS - USA PRODUCTION [mTons]   -23.0939     65.907     -0.350      0.726    -152.269     106.082\n",
      "previous_price_soybean               -0.5916      0.124     -4.768      0.000      -0.835      -0.348\n",
      "previous_usa_production             -33.1640     58.614     -0.566      0.572    -148.046      81.718\n",
      "previous_SP500                      -13.7499    111.420     -0.123      0.902    -232.130     204.630\n",
      "previous_real_interest_rate         -25.8479     56.506     -0.457      0.647    -136.597      84.902\n",
      "price_soybean_avg_3_months            1.9109      0.122     15.647      0.000       1.672       2.150\n",
      "price_soybean_avg_6_months           -0.3892      0.223     -1.747      0.081      -0.826       0.048\n",
      "price_soybean_avg_12_months          -0.0358      0.135     -0.266      0.790      -0.300       0.228\n",
      "3mprevious_price_soybean              0.1559      0.107      1.462      0.144      -0.053       0.365\n",
      "3mprevious_SP500                     -0.5523    104.890     -0.005      0.996    -206.133     205.029\n",
      "3mprevious_real_interest_rate        19.7927     31.601      0.626      0.531     -42.144      81.730\n",
      "6mprevious_price_soybean             -0.0807      0.037     -2.193      0.028      -0.153      -0.009\n",
      "6mprevious_SP500                    -71.4874     63.982     -1.117      0.264    -196.890      53.915\n",
      "6mprevious_real_interest_rate        19.7927     31.601      0.626      0.531     -42.144      81.730\n",
      "month                                 0.3537      0.794      0.446      0.656      -1.202       1.909\n",
      "year                                  2.1987     12.264      0.179      0.858     -21.838      26.236\n",
      "month_sin                             3.2952     10.098      0.326      0.744     -16.496      23.087\n",
      "month_cos                             7.1227      9.075      0.785      0.433     -10.663      24.909\n",
      "year_sin                            447.1862   2742.857      0.163      0.870   -4928.715    5823.088\n",
      "year_cos                          -4348.2820   2.47e+04     -0.176      0.860   -5.28e+04    4.41e+04\n",
      "ar.L1                                 0.1868      0.188      0.996      0.319      -0.181       0.554\n",
      "ma.L1                                 0.8996      0.124      7.262      0.000       0.657       1.142\n",
      "ar.S.L12                             -0.0351      2.839     -0.012      0.990      -5.600       5.530\n",
      "ma.S.L12                              0.0641      2.845      0.023      0.982      -5.512       5.640\n",
      "sigma2                             1510.5965    135.038     11.186      0.000    1245.927    1775.266\n",
      "===================================================================================\n",
      "Ljung-Box (L1) (Q):                   0.15   Jarque-Bera (JB):               404.05\n",
      "Prob(Q):                              0.69   Prob(JB):                         0.00\n",
      "Heteroskedasticity (H):               4.25   Skew:                            -0.79\n",
      "Prob(H) (two-sided):                  0.00   Kurtosis:                         7.57\n",
      "===================================================================================\n",
      "\n",
      "Warnings:\n",
      "[1] Covariance matrix calculated using the outer product of gradients (complex-step).\n",
      "[2] Covariance matrix is singular or near-singular, with condition number 7.13e+21. Standard errors may be unstable.\n"
     ]
    },
    {
     "ename": "IndexError",
     "evalue": "boolean index did not match indexed array along dimension 0; dimension is 22 but corresponding boolean dimension is 27",
     "output_type": "error",
     "traceback": [
      "\u001b[0;31m---------------------------------------------------------------------------\u001b[0m",
      "\u001b[0;31mIndexError\u001b[0m                                Traceback (most recent call last)",
      "Cell \u001b[0;32mIn [30], line 18\u001b[0m\n\u001b[1;32m     15\u001b[0m p_values \u001b[38;5;241m=\u001b[39m results\u001b[38;5;241m.\u001b[39mpvalues\n\u001b[1;32m     17\u001b[0m \u001b[38;5;66;03m# Filter the features with statistically significant coefficients\u001b[39;00m\n\u001b[0;32m---> 18\u001b[0m significant_features \u001b[38;5;241m=\u001b[39m \u001b[43mX\u001b[49m\u001b[38;5;241;43m.\u001b[39;49m\u001b[43mcolumns\u001b[49m\u001b[43m[\u001b[49m\u001b[43mp_values\u001b[49m\u001b[43m \u001b[49m\u001b[38;5;241;43m<\u001b[39;49m\u001b[43m \u001b[49m\u001b[38;5;241;43m0.05\u001b[39;49m\u001b[43m]\u001b[49m\n\u001b[1;32m     20\u001b[0m \u001b[38;5;66;03m# Print the significant features\u001b[39;00m\n\u001b[1;32m     21\u001b[0m \u001b[38;5;28mprint\u001b[39m(\u001b[38;5;124m\"\u001b[39m\u001b[38;5;124mSignificant Features:\u001b[39m\u001b[38;5;124m\"\u001b[39m)\n",
      "File \u001b[0;32m~/.pyenv/versions/3.10.6/envs/lewagon/lib/python3.10/site-packages/pandas/core/indexes/base.py:5069\u001b[0m, in \u001b[0;36mIndex.__getitem__\u001b[0;34m(self, key)\u001b[0m\n\u001b[1;32m   5062\u001b[0m \u001b[38;5;28;01mif\u001b[39;00m com\u001b[38;5;241m.\u001b[39mis_bool_indexer(key):\n\u001b[1;32m   5063\u001b[0m     \u001b[38;5;66;03m# if we have list[bools, length=1e5] then doing this check+convert\u001b[39;00m\n\u001b[1;32m   5064\u001b[0m     \u001b[38;5;66;03m#  takes 166 µs + 2.1 ms and cuts the ndarray.__getitem__\u001b[39;00m\n\u001b[1;32m   5065\u001b[0m     \u001b[38;5;66;03m#  time below from 3.8 ms to 496 µs\u001b[39;00m\n\u001b[1;32m   5066\u001b[0m     \u001b[38;5;66;03m# if we already have ndarray[bool], the overhead is 1.4 µs or .25%\u001b[39;00m\n\u001b[1;32m   5067\u001b[0m     key \u001b[38;5;241m=\u001b[39m np\u001b[38;5;241m.\u001b[39masarray(key, dtype\u001b[38;5;241m=\u001b[39m\u001b[38;5;28mbool\u001b[39m)\n\u001b[0;32m-> 5069\u001b[0m result \u001b[38;5;241m=\u001b[39m \u001b[43mgetitem\u001b[49m\u001b[43m(\u001b[49m\u001b[43mkey\u001b[49m\u001b[43m)\u001b[49m\n\u001b[1;32m   5070\u001b[0m \u001b[38;5;66;03m# Because we ruled out integer above, we always get an arraylike here\u001b[39;00m\n\u001b[1;32m   5071\u001b[0m \u001b[38;5;28;01mif\u001b[39;00m result\u001b[38;5;241m.\u001b[39mndim \u001b[38;5;241m>\u001b[39m \u001b[38;5;241m1\u001b[39m:\n",
      "\u001b[0;31mIndexError\u001b[0m: boolean index did not match indexed array along dimension 0; dimension is 22 but corresponding boolean dimension is 27"
     ]
    }
   ],
   "source": [
    "import statsmodels.api as sm\n",
    "\n",
    "# Separate the target variable and the predictors\n",
    "y = df['price_soybean']\n",
    "X = df.drop(['price_soybean', 'date'], axis=1)  # Pass the columns to drop as a list\n",
    "\n",
    "# Fit the SARIMA model\n",
    "model = sm.tsa.SARIMAX(y, exog=X, order=(1, 0, 1), seasonal_order=(1, 0, 1, 12))  # Modify the order as needed\n",
    "results = model.fit()\n",
    "\n",
    "# Print the model summary\n",
    "print(results.summary())\n",
    "\n",
    "# Get the p-values of the coefficients\n",
    "p_values = results.pvalues\n",
    "\n",
    "# Filter the features with statistically significant coefficients\n",
    "significant_features = X.columns[p_values < 0.05]\n",
    "\n",
    "# Print the significant features\n",
    "print(\"Significant Features:\")\n",
    "for feature in significant_features:\n",
    "    print(feature)\n"
   ]
  },
  {
   "cell_type": "code",
   "execution_count": 31,
   "id": "e4844161-4d77-4ffe-a725-9857eb6447f5",
   "metadata": {},
   "outputs": [
    {
     "name": "stdout",
     "output_type": "stream",
     "text": [
      "Variable Significance based on Confidence Intervals:\n",
      "                                   Coefficient      Lower CI      Upper CI\n",
      "SP500                                71.393900    -54.590013    197.377813\n",
      "SOYBEANS - USA PRODUCTION [mTons]   -23.093916   -152.269368    106.081536\n",
      "previous_price_soybean               -0.591586     -0.834789     -0.348384\n",
      "previous_usa_production             -33.164033   -148.046205     81.718138\n",
      "previous_SP500                      -13.749861   -232.129717    204.629996\n",
      "previous_real_interest_rate         -25.847935   -136.597381     84.901510\n",
      "price_soybean_avg_3_months            1.910908      1.671546      2.150270\n",
      "price_soybean_avg_6_months           -0.389173     -0.825901      0.047556\n",
      "price_soybean_avg_12_months          -0.035828     -0.300106      0.228449\n",
      "3mprevious_price_soybean              0.155902     -0.053067      0.364871\n",
      "3mprevious_SP500                     -0.552253   -206.133129    205.028623\n",
      "3mprevious_real_interest_rate        19.792671    -42.144309     81.729650\n",
      "6mprevious_price_soybean             -0.080700     -0.152813     -0.008587\n",
      "6mprevious_SP500                    -71.487434   -196.890190     53.915322\n",
      "6mprevious_real_interest_rate        19.792671    -42.144318     81.729659\n",
      "month                                 0.353670     -1.201681      1.909021\n",
      "year                                  2.198667    -21.838267     26.235600\n",
      "month_sin                             3.295150    -16.496311     23.086611\n",
      "month_cos                             7.122723    -10.663491     24.908938\n",
      "year_sin                            447.186174  -4928.715290   5823.087638\n",
      "year_cos                          -4348.282004 -52813.787481  44117.223473\n",
      "ar.L1                                 0.186795     -0.180816      0.554407\n",
      "ma.L1                                 0.899552      0.656756      1.142348\n",
      "ar.S.L12                             -0.035093     -5.600053      5.529867\n",
      "ma.S.L12                              0.064086     -5.511755      5.639927\n",
      "sigma2                             1510.596502   1245.926735   1775.266269\n"
     ]
    }
   ],
   "source": [
    "# Assuming 'results' contains the fitted SARIMAX model results\n",
    "\n",
    "# Extract the coefficient values and confidence intervals for the exogenous variables\n",
    "exog_coefficients = results.params.iloc[1:]\n",
    "exog_ci = results.conf_int().iloc[1:]\n",
    "\n",
    "# Combine the coefficient values and confidence intervals into a DataFrame\n",
    "exog_summary = pd.concat([exog_coefficients, exog_ci], axis=1)\n",
    "exog_summary.columns = ['Coefficient', 'Lower CI', 'Upper CI']\n",
    "\n",
    "# Print the significance of each variable based on confidence intervals\n",
    "print(\"Variable Significance based on Confidence Intervals:\")\n",
    "print(exog_summary)\n"
   ]
  },
  {
   "cell_type": "code",
   "execution_count": 32,
   "id": "76f123fe-70f1-4e5b-871b-a50c9f135dc4",
   "metadata": {},
   "outputs": [
    {
     "name": "stdout",
     "output_type": "stream",
     "text": [
      "Significant Features:\n",
      "previous_price_soybean: z-value = -4.767587528992919\n",
      "price_soybean_avg_3_months: z-value = 15.647056233613029\n",
      "6mprevious_price_soybean: z-value = -2.1933525431345067\n",
      "ma.L1: z-value = 7.261603818603921\n",
      "sigma2: z-value = 11.18644857158151\n"
     ]
    }
   ],
   "source": [
    "# Assuming 'results' contains the fitted SARIMAX model results\n",
    "\n",
    "# Extract the z-values\n",
    "z_values = results.tvalues\n",
    "\n",
    "# Filter the features based on significance level (e.g., z-value > 1.96 for 95% confidence)\n",
    "significant_features = z_values[abs(z_values) > 1.96]  # Modify the threshold as needed\n",
    "\n",
    "# Print the significant features along with their z-values\n",
    "print(\"Significant Features:\")\n",
    "for feature, z_value in significant_features.iteritems():\n",
    "    print(f\"{feature}: z-value = {z_value}\")\n",
    "    \n"
   ]
  },
  {
   "cell_type": "markdown",
   "id": "91bfa5e8-6b03-445c-9967-95bfa39f8ce5",
   "metadata": {},
   "source": [
    "## Vamos Con Lasso"
   ]
  },
  {
   "cell_type": "code",
   "execution_count": 37,
   "id": "5cec8619-d7c2-4fda-977e-d404b4ac4a61",
   "metadata": {},
   "outputs": [
    {
     "name": "stdout",
     "output_type": "stream",
     "text": [
      "MAE: 25.55\n",
      "MAPE: 3.11%\n"
     ]
    },
    {
     "name": "stderr",
     "output_type": "stream",
     "text": [
      "/home/pipeposse/.pyenv/versions/3.10.6/envs/lewagon/lib/python3.10/site-packages/sklearn/linear_model/_coordinate_descent.py:631: ConvergenceWarning: Objective did not converge. You might want to increase the number of iterations, check the scale of the features or consider increasing regularisation. Duality gap: 2.134e+05, tolerance: 3.346e+03\n",
      "  model = cd_fast.enet_coordinate_descent(\n"
     ]
    }
   ],
   "source": [
    "import pandas as pd\n",
    "from sklearn.linear_model import Lasso\n",
    "from sklearn.model_selection import train_test_split\n",
    "from sklearn.metrics import mean_absolute_error\n",
    "\n",
    "# Separate the target variable and the predictors\n",
    "y = df['price_soybean']\n",
    "X = df.drop(['price_soybean', 'date'], axis=1)\n",
    "\n",
    "# Split the data into training and testing sets\n",
    "X_train, X_test, y_train, y_test = train_test_split(X, y, test_size=0.2, random_state=42)\n",
    "\n",
    "# Create and fit the Lasso model\n",
    "lasso = Lasso(alpha=0.1)  # You can adjust the alpha parameter as needed\n",
    "lasso.fit(X_train, y_train)\n",
    "\n",
    "# Make predictions\n",
    "y_pred = lasso.predict(X_test)\n",
    "\n",
    "# Calculate MAE\n",
    "mae = mean_absolute_error(y_test, y_pred)\n",
    "print(\"MAE: {:.2f}\".format(mae))\n",
    "\n",
    "# Calculate MAPE\n",
    "mape = 100 * (mae / y_test.mean())\n",
    "print(\"MAPE: {:.2f}%\".format(mape))\n"
   ]
  },
  {
   "cell_type": "code",
   "execution_count": 6,
   "id": "b51c3539-018a-486c-8432-df6e993f64dc",
   "metadata": {},
   "outputs": [
    {
     "name": "stdout",
     "output_type": "stream",
     "text": [
      "MAE: 31.40\n",
      "MAPE: 3.82%\n"
     ]
    }
   ],
   "source": [
    "\n",
    "import pandas as pd\n",
    "import xgboost as xgb\n",
    "from sklearn.model_selection import train_test_split\n",
    "from sklearn.metrics import mean_absolute_error\n",
    "\n",
    "# Separate the target variable and the predictors\n",
    "y = df['price_soybean']\n",
    "X = df.drop(['price_soybean', 'date'], axis=1)\n",
    "\n",
    "# Split the data into training and testing sets\n",
    "X_train, X_test, y_train, y_test = train_test_split(X, y, test_size=0.2, random_state=42)\n",
    "\n",
    "# Create the XGBoost model\n",
    "model = xgb.XGBRegressor()\n",
    "\n",
    "# Train the model\n",
    "model.fit(X_train, y_train)\n",
    "\n",
    "# Make predictions\n",
    "y_pred = model.predict(X_test)\n",
    "\n",
    "# Calculate MAE\n",
    "mae = mean_absolute_error(y_test, y_pred)\n",
    "print(\"MAE: {:.2f}\".format(mae))\n",
    "\n",
    "# Calculate MAPE\n",
    "mape = 100 * (mae / y_test.mean())\n",
    "print(\"MAPE: {:.2f}%\".format(mape))\n"
   ]
  },
  {
   "cell_type": "code",
   "execution_count": 39,
   "id": "153ae7e9-29c8-4f93-86ba-852d956a8fc1",
   "metadata": {},
   "outputs": [
    {
     "name": "stdout",
     "output_type": "stream",
     "text": [
      "['SOYBEANS - USA PRODUCTION [mTons]']\n"
     ]
    }
   ],
   "source": [
    "columns_with_special_chars = [col for col in df.columns if any(char in col for char in ['[', ']', '<'])]\n",
    "print(columns_with_special_chars)\n"
   ]
  },
  {
   "cell_type": "code",
   "execution_count": 13,
   "id": "2e1b855a-9367-481d-a22d-bab431579441",
   "metadata": {},
   "outputs": [
    {
     "name": "stdout",
     "output_type": "stream",
     "text": [
      "MAE: 31.318433734939752\n",
      "MAPE: 3.8107545482532643\n"
     ]
    }
   ],
   "source": [
    "#Random Forest\n",
    "\n",
    "# Assuming 'df' is your DataFrame containing the selected features and target variable\n",
    "\n",
    "# Separate the target variable and the predictors\n",
    "y = df['price_soybean']\n",
    "X = df.drop(['price_soybean','date'], axis=1)\n",
    "\n",
    "# Split the data into train and test sets\n",
    "X_train, X_test, y_train, y_test = train_test_split(X, y, test_size=0.2, random_state=42)\n",
    "\n",
    "# Create the Random Forest model\n",
    "model = RandomForestRegressor()\n",
    "\n",
    "# Train the model\n",
    "model.fit(X_train, y_train)\n",
    "\n",
    "\n",
    "# Make predictions on the test set\n",
    "y_pred = model.predict(X_test)\n",
    "\n",
    "# Calculate Mean Absolute Error (MAE)\n",
    "mae = mean_absolute_error(y_test, y_pred)\n",
    "print(\"MAE:\", mae)\n",
    "\n",
    "# Calculate Mean Absolute Percentage Error (MAPE)\n",
    "mape = 100 * (mae / y_test.mean())\n",
    "print(\"MAPE:\", mape)\n",
    "\n"
   ]
  },
  {
   "cell_type": "code",
   "execution_count": 11,
   "id": "da6aa608-344b-4a9a-b629-003c546bb859",
   "metadata": {},
   "outputs": [],
   "source": [
    "import pandas as pd\n",
    "\n",
    "# Assuming 'df' is your DataFrame\n",
    "\n",
    "# Save the DataFrame as a CSV file\n",
    "df.to_csv('output.csv', index=False)\n"
   ]
  },
  {
   "cell_type": "code",
   "execution_count": 14,
   "id": "86b8c5e1-6a97-49e5-b57b-4efe96fa2ec9",
   "metadata": {},
   "outputs": [
    {
     "name": "stdout",
     "output_type": "stream",
     "text": [
      "['date', 'price_soybean', 'real_interest_rate', 'SP500', 'usa_prod', 'previous_price_soybean', 'previous_usa_production', 'previous_SP500', 'previous_real_interest_rate', 'price_soybean_avg_3_months', 'price_soybean_avg_6_months', 'price_soybean_avg_12_months', '3mprevious_price_soybean', '3mprevious_SP500', '3mprevious_real_interest_rate', '6mprevious_price_soybean', '6mprevious_SP500', '6mprevious_real_interest_rate', 'month', 'year', 'month_sin', 'month_cos', 'year_sin', 'year_cos']\n"
     ]
    }
   ],
   "source": [
    "column_names = df.columns.tolist()\n",
    "print(column_names)\n"
   ]
  },
  {
   "cell_type": "code",
   "execution_count": null,
   "id": "71ffa730-7169-4261-9dfd-e726880976ec",
   "metadata": {},
   "outputs": [],
   "source": []
  }
 ],
 "metadata": {
  "kernelspec": {
   "display_name": "Python 3 (ipykernel)",
   "language": "python",
   "name": "python3"
  },
  "language_info": {
   "codemirror_mode": {
    "name": "ipython",
    "version": 3
   },
   "file_extension": ".py",
   "mimetype": "text/x-python",
   "name": "python",
   "nbconvert_exporter": "python",
   "pygments_lexer": "ipython3",
   "version": "3.10.6"
  }
 },
 "nbformat": 4,
 "nbformat_minor": 5
}
