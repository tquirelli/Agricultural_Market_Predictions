{
 "cells": [
  {
   "cell_type": "code",
   "execution_count": 1,
   "id": "7566a389-80b5-40f4-9fe5-e467fd7693e1",
   "metadata": {},
   "outputs": [
    {
     "name": "stdout",
     "output_type": "stream",
     "text": [
      "Collecting gspread\n",
      "  Downloading gspread-5.10.0-py3-none-any.whl (44 kB)\n",
      "\u001b[2K     \u001b[90m━━━━━━━━━━━━━━━━━━━━━━━━━━━━━━━━━━━━━━━━\u001b[0m \u001b[32m44.5/44.5 kB\u001b[0m \u001b[31m1.2 MB/s\u001b[0m eta \u001b[36m0:00:00\u001b[0m\n",
      "\u001b[?25hRequirement already satisfied: pandas in /home/pipeposse/.pyenv/versions/3.10.6/envs/lewagon/lib/python3.10/site-packages (1.4.4)\n",
      "Requirement already satisfied: google-auth>=1.12.0 in /home/pipeposse/.pyenv/versions/3.10.6/envs/lewagon/lib/python3.10/site-packages (from gspread) (2.13.0)\n",
      "Requirement already satisfied: google-auth-oauthlib>=0.4.1 in /home/pipeposse/.pyenv/versions/3.10.6/envs/lewagon/lib/python3.10/site-packages (from gspread) (0.4.6)\n",
      "Requirement already satisfied: python-dateutil>=2.8.1 in /home/pipeposse/.pyenv/versions/3.10.6/envs/lewagon/lib/python3.10/site-packages (from pandas) (2.8.2)\n",
      "Requirement already satisfied: pytz>=2020.1 in /home/pipeposse/.pyenv/versions/3.10.6/envs/lewagon/lib/python3.10/site-packages (from pandas) (2023.3)\n",
      "Requirement already satisfied: numpy>=1.21.0 in /home/pipeposse/.pyenv/versions/3.10.6/envs/lewagon/lib/python3.10/site-packages (from pandas) (1.23.4)\n",
      "Requirement already satisfied: cachetools<6.0,>=2.0.0 in /home/pipeposse/.pyenv/versions/3.10.6/envs/lewagon/lib/python3.10/site-packages (from google-auth>=1.12.0->gspread) (5.2.0)\n",
      "Requirement already satisfied: pyasn1-modules>=0.2.1 in /home/pipeposse/.pyenv/versions/3.10.6/envs/lewagon/lib/python3.10/site-packages (from google-auth>=1.12.0->gspread) (0.2.8)\n",
      "Requirement already satisfied: six>=1.9.0 in /home/pipeposse/.pyenv/versions/3.10.6/envs/lewagon/lib/python3.10/site-packages (from google-auth>=1.12.0->gspread) (1.16.0)\n",
      "Requirement already satisfied: rsa<5,>=3.1.4 in /home/pipeposse/.pyenv/versions/3.10.6/envs/lewagon/lib/python3.10/site-packages (from google-auth>=1.12.0->gspread) (4.9)\n",
      "Requirement already satisfied: requests-oauthlib>=0.7.0 in /home/pipeposse/.pyenv/versions/3.10.6/envs/lewagon/lib/python3.10/site-packages (from google-auth-oauthlib>=0.4.1->gspread) (1.3.1)\n",
      "Requirement already satisfied: pyasn1<0.5.0,>=0.4.6 in /home/pipeposse/.pyenv/versions/3.10.6/envs/lewagon/lib/python3.10/site-packages (from pyasn1-modules>=0.2.1->google-auth>=1.12.0->gspread) (0.4.8)\n",
      "Requirement already satisfied: oauthlib>=3.0.0 in /home/pipeposse/.pyenv/versions/3.10.6/envs/lewagon/lib/python3.10/site-packages (from requests-oauthlib>=0.7.0->google-auth-oauthlib>=0.4.1->gspread) (3.2.2)\n",
      "Requirement already satisfied: requests>=2.0.0 in /home/pipeposse/.pyenv/versions/3.10.6/envs/lewagon/lib/python3.10/site-packages (from requests-oauthlib>=0.7.0->google-auth-oauthlib>=0.4.1->gspread) (2.29.0)\n",
      "Requirement already satisfied: charset-normalizer<4,>=2 in /home/pipeposse/.pyenv/versions/3.10.6/envs/lewagon/lib/python3.10/site-packages (from requests>=2.0.0->requests-oauthlib>=0.7.0->google-auth-oauthlib>=0.4.1->gspread) (2.1.1)\n",
      "Requirement already satisfied: idna<4,>=2.5 in /home/pipeposse/.pyenv/versions/3.10.6/envs/lewagon/lib/python3.10/site-packages (from requests>=2.0.0->requests-oauthlib>=0.7.0->google-auth-oauthlib>=0.4.1->gspread) (3.4)\n",
      "Requirement already satisfied: urllib3<1.27,>=1.21.1 in /home/pipeposse/.pyenv/versions/3.10.6/envs/lewagon/lib/python3.10/site-packages (from requests>=2.0.0->requests-oauthlib>=0.7.0->google-auth-oauthlib>=0.4.1->gspread) (1.26.15)\n",
      "Requirement already satisfied: certifi>=2017.4.17 in /home/pipeposse/.pyenv/versions/3.10.6/envs/lewagon/lib/python3.10/site-packages (from requests>=2.0.0->requests-oauthlib>=0.7.0->google-auth-oauthlib>=0.4.1->gspread) (2022.12.7)\n",
      "Installing collected packages: gspread\n",
      "Successfully installed gspread-5.10.0\n"
     ]
    }
   ],
   "source": [
    "!pip install gspread pandas\n"
   ]
  },
  {
   "cell_type": "code",
   "execution_count": 3,
   "id": "4cc86dac-1183-43e9-9d85-a23678ca7bc3",
   "metadata": {},
   "outputs": [
    {
     "name": "stdout",
     "output_type": "stream",
     "text": [
      "Requirement already satisfied: gspread in /home/pipeposse/.pyenv/versions/3.10.6/envs/lewagon/lib/python3.10/site-packages (5.10.0)\n",
      "Requirement already satisfied: pandas in /home/pipeposse/.pyenv/versions/3.10.6/envs/lewagon/lib/python3.10/site-packages (1.4.4)\n",
      "Requirement already satisfied: google-auth in /home/pipeposse/.pyenv/versions/3.10.6/envs/lewagon/lib/python3.10/site-packages (2.13.0)\n",
      "Requirement already satisfied: google-auth-oauthlib in /home/pipeposse/.pyenv/versions/3.10.6/envs/lewagon/lib/python3.10/site-packages (0.4.6)\n",
      "Requirement already satisfied: python-dateutil>=2.8.1 in /home/pipeposse/.pyenv/versions/3.10.6/envs/lewagon/lib/python3.10/site-packages (from pandas) (2.8.2)\n",
      "Requirement already satisfied: pytz>=2020.1 in /home/pipeposse/.pyenv/versions/3.10.6/envs/lewagon/lib/python3.10/site-packages (from pandas) (2023.3)\n",
      "Requirement already satisfied: numpy>=1.21.0 in /home/pipeposse/.pyenv/versions/3.10.6/envs/lewagon/lib/python3.10/site-packages (from pandas) (1.23.4)\n",
      "Requirement already satisfied: cachetools<6.0,>=2.0.0 in /home/pipeposse/.pyenv/versions/3.10.6/envs/lewagon/lib/python3.10/site-packages (from google-auth) (5.2.0)\n",
      "Requirement already satisfied: pyasn1-modules>=0.2.1 in /home/pipeposse/.pyenv/versions/3.10.6/envs/lewagon/lib/python3.10/site-packages (from google-auth) (0.2.8)\n",
      "Requirement already satisfied: six>=1.9.0 in /home/pipeposse/.pyenv/versions/3.10.6/envs/lewagon/lib/python3.10/site-packages (from google-auth) (1.16.0)\n",
      "Requirement already satisfied: rsa<5,>=3.1.4 in /home/pipeposse/.pyenv/versions/3.10.6/envs/lewagon/lib/python3.10/site-packages (from google-auth) (4.9)\n",
      "Requirement already satisfied: requests-oauthlib>=0.7.0 in /home/pipeposse/.pyenv/versions/3.10.6/envs/lewagon/lib/python3.10/site-packages (from google-auth-oauthlib) (1.3.1)\n",
      "Requirement already satisfied: pyasn1<0.5.0,>=0.4.6 in /home/pipeposse/.pyenv/versions/3.10.6/envs/lewagon/lib/python3.10/site-packages (from pyasn1-modules>=0.2.1->google-auth) (0.4.8)\n",
      "Requirement already satisfied: oauthlib>=3.0.0 in /home/pipeposse/.pyenv/versions/3.10.6/envs/lewagon/lib/python3.10/site-packages (from requests-oauthlib>=0.7.0->google-auth-oauthlib) (3.2.2)\n",
      "Requirement already satisfied: requests>=2.0.0 in /home/pipeposse/.pyenv/versions/3.10.6/envs/lewagon/lib/python3.10/site-packages (from requests-oauthlib>=0.7.0->google-auth-oauthlib) (2.29.0)\n",
      "Requirement already satisfied: charset-normalizer<4,>=2 in /home/pipeposse/.pyenv/versions/3.10.6/envs/lewagon/lib/python3.10/site-packages (from requests>=2.0.0->requests-oauthlib>=0.7.0->google-auth-oauthlib) (2.1.1)\n",
      "Requirement already satisfied: idna<4,>=2.5 in /home/pipeposse/.pyenv/versions/3.10.6/envs/lewagon/lib/python3.10/site-packages (from requests>=2.0.0->requests-oauthlib>=0.7.0->google-auth-oauthlib) (3.4)\n",
      "Requirement already satisfied: urllib3<1.27,>=1.21.1 in /home/pipeposse/.pyenv/versions/3.10.6/envs/lewagon/lib/python3.10/site-packages (from requests>=2.0.0->requests-oauthlib>=0.7.0->google-auth-oauthlib) (1.26.15)\n",
      "Requirement already satisfied: certifi>=2017.4.17 in /home/pipeposse/.pyenv/versions/3.10.6/envs/lewagon/lib/python3.10/site-packages (from requests>=2.0.0->requests-oauthlib>=0.7.0->google-auth-oauthlib) (2022.12.7)\n"
     ]
    }
   ],
   "source": [
    "!pip install gspread pandas google-auth google-auth-oauthlib\n"
   ]
  },
  {
   "cell_type": "code",
   "execution_count": 4,
   "id": "451d51d7-08ba-4077-bb65-5c5f48440490",
   "metadata": {},
   "outputs": [
    {
     "ename": "AttributeError",
     "evalue": "'Client' object has no attribute 'connect'",
     "output_type": "error",
     "traceback": [
      "\u001b[0;31m---------------------------------------------------------------------------\u001b[0m",
      "\u001b[0;31mAttributeError\u001b[0m                            Traceback (most recent call last)",
      "Cell \u001b[0;32mIn [4], line 18\u001b[0m\n\u001b[1;32m     16\u001b[0m \u001b[38;5;66;03m# Authenticate using the credentials\u001b[39;00m\n\u001b[1;32m     17\u001b[0m client \u001b[38;5;241m=\u001b[39m gspread\u001b[38;5;241m.\u001b[39mClient(auth\u001b[38;5;241m=\u001b[39mcredentials)\n\u001b[0;32m---> 18\u001b[0m \u001b[43mclient\u001b[49m\u001b[38;5;241;43m.\u001b[39;49m\u001b[43mconnect\u001b[49m()\n\u001b[1;32m     20\u001b[0m \u001b[38;5;66;03m# Open the Google Drive Excel file\u001b[39;00m\n\u001b[1;32m     21\u001b[0m spreadsheet \u001b[38;5;241m=\u001b[39m client\u001b[38;5;241m.\u001b[39mopen_by_url(\u001b[38;5;124m'\u001b[39m\u001b[38;5;124mhttps://docs.google.com/spreadsheets/d/1HFtpZiBTYNofgdNIgeMuvxg28i8mwuT6paSYt8i-Udw/edit?usp=drive_link\u001b[39m\u001b[38;5;124m'\u001b[39m)\n",
      "\u001b[0;31mAttributeError\u001b[0m: 'Client' object has no attribute 'connect'"
     ]
    }
   ],
   "source": [
    "import os\n",
    "import pandas as pd\n",
    "import gspread\n",
    "from google.oauth2 import service_account\n",
    "\n",
    "# Get the current working directory\n",
    "cwd = os.getcwd()\n",
    "\n",
    "# Specify the path to the credentials JSON file\n",
    "credentials_path = os.path.join(cwd, 'credential.json')\n",
    "\n",
    "# Load credentials from the JSON file\n",
    "scope = ['https://spreadsheets.google.com/feeds', 'https://www.googleapis.com/auth/drive']\n",
    "credentials = service_account.Credentials.from_service_account_file(credentials_path, scopes=scope)\n",
    "\n",
    "# Authenticate using the credentials\n",
    "client = gspread.Client(auth=credentials)\n",
    "client.connect()\n",
    "\n",
    "# Open the Google Drive Excel file\n",
    "spreadsheet = client.open_by_url('https://docs.google.com/spreadsheets/d/1HFtpZiBTYNofgdNIgeMuvxg28i8mwuT6paSYt8i-Udw/edit?usp=drive_link')\n",
    "\n",
    "# Select a specific sheet within the Excel file\n",
    "worksheet = spreadsheet.sheet1  # Replace 'sheet1' with the actual sheet name\n",
    "\n",
    "# Read the sheet data into a pandas DataFrame\n",
    "df = pd.DataFrame(worksheet.get_all_records())\n",
    "\n",
    "# Now you can work with the DataFrame 'df' containing the Excel data\n",
    "\n"
   ]
  },
  {
   "cell_type": "code",
   "execution_count": 11,
   "id": "560d6c41-9e9e-4066-b150-c290639863da",
   "metadata": {},
   "outputs": [],
   "source": [
    "import os\n",
    "import pandas as pd\n",
    "import gspread\n",
    "from google.oauth2 import service_account\n",
    "\n",
    "# Get the current working directory\n",
    "cwd = os.getcwd()\n",
    "\n",
    "# Specify the path to the credentials JSON file\n",
    "credentials_path = os.path.join(cwd, 'credential2.json')\n",
    "\n",
    "# Load credentials from the JSON file\n",
    "scope = ['https://spreadsheets.google.com/feeds', 'https://www.googleapis.com/auth/drive']\n",
    "credentials = service_account.Credentials.from_service_account_file(credentials_path, scopes=scope)\n",
    "\n",
    "# Authenticate using the credentials\n",
    "client = gspread.Client(auth=credentials)\n",
    "\n",
    "# Open the Google Drive Excel file\n",
    "spreadsheet = client.open_by_url('https://docs.google.com/spreadsheets/d/1HFtpZiBTYNofgdNIgeMuvxg28i8mwuT6paSYt8i-Udw/edit?usp=sharing')\n",
    "\n",
    "# Select a specific sheet within the Excel file\n",
    "worksheet = spreadsheet.sheet1  # Replace 'sheet1' with the actual sheet name\n",
    "\n",
    "# Read the sheet data into a pandas DataFrame\n",
    "df = pd.DataFrame(worksheet.get_all_records())\n",
    "\n",
    "# Now you can work with the DataFrame 'df' containing the Excel data\n"
   ]
  },
  {
   "cell_type": "code",
   "execution_count": 15,
   "id": "94a0a21b-24b7-4be2-adc5-c32e62d7f547",
   "metadata": {},
   "outputs": [
    {
     "name": "stdout",
     "output_type": "stream",
     "text": [
      "       date year month  price_soybean  Brazil-Tmin  Brazil-Tmax  \\\n",
      "0  7/1/1988    07-1988           7875         16.0         26.1   \n",
      "1  8/1/1988    08-1988           8675         17.6         28.8   \n",
      "\n",
      "   Brazil-T mean  Brazil-Precipitation  ARGENTINA-Tmin  ARGENTINA-Tmax  \\\n",
      "0          21.05                    30             3.0            14.2   \n",
      "1          23.20                    34             6.8            17.3   \n",
      "\n",
      "   ARGENTINA T Mean  ...  price_gold  SP500    VIX  price_wti_oil  price_corn  \\\n",
      "0              8.60  ...       436.1  326.2  25.36          14.21      217.25   \n",
      "1             12.05  ...       429.3  326.2  25.36          14.21      217.25   \n",
      "\n",
      "   price_wheat  SOYBEANS - USA PRODUCTION [mTons]  \\\n",
      "0        252.5                             42.153   \n",
      "1        252.5                             42.153   \n",
      "\n",
      "   SOYBEANS - Brazil PRODUCTION [mTons]  \\\n",
      "0                                  23.6   \n",
      "1                                  23.6   \n",
      "\n",
      "   SOYBEANS - Argentina PRODUCTION [mTons]  SOYBEANS - USA Stocks [mTons]  \n",
      "0                                      9.9                           8232  \n",
      "1                                      9.9                           8232  \n",
      "\n",
      "[2 rows x 31 columns]\n"
     ]
    }
   ],
   "source": [
    "print(df.head(2))"
   ]
  },
  {
   "cell_type": "code",
   "execution_count": null,
   "id": "a3cd1a21-4626-4efd-969b-43691ace02ea",
   "metadata": {},
   "outputs": [],
   "source": []
  }
 ],
 "metadata": {
  "kernelspec": {
   "display_name": "Python 3 (ipykernel)",
   "language": "python",
   "name": "python3"
  },
  "language_info": {
   "codemirror_mode": {
    "name": "ipython",
    "version": 3
   },
   "file_extension": ".py",
   "mimetype": "text/x-python",
   "name": "python",
   "nbconvert_exporter": "python",
   "pygments_lexer": "ipython3",
   "version": "3.10.6"
  }
 },
 "nbformat": 4,
 "nbformat_minor": 5
}
